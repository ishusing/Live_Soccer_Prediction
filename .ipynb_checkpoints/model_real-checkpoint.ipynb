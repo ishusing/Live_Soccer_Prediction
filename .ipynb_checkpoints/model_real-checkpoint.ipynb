{
 "cells": [
  {
   "cell_type": "code",
   "execution_count": 1,
   "metadata": {},
   "outputs": [
    {
     "name": "stdout",
     "output_type": "stream",
     "text": [
      "Populating the interactive namespace from numpy and matplotlib\n"
     ]
    },
    {
     "name": "stderr",
     "output_type": "stream",
     "text": [
      "C:\\ProgramData\\Anaconda2\\lib\\site-packages\\IPython\\core\\magics\\pylab.py:161: UserWarning: pylab import has clobbered these variables: ['log', 'datetime']\n",
      "`%matplotlib` prevents importing * from pylab and numpy\n",
      "  \"\\n`%matplotlib` prevents importing * from pylab and numpy\"\n"
     ]
    }
   ],
   "source": [
    "import numpy as np\n",
    "import pandas as pd\n",
    "import seaborn as sbn\n",
    "import pickle as pkl\n",
    "import matplotlib.pyplot as plt\n",
    "from datetime import datetime\n",
    "from sklearn.model_selection import train_test_split\n",
    "from sklearn.linear_model import LinearRegression,LogisticRegression\n",
    "from sklearn.model_selection import GridSearchCV\n",
    "from sklearn.naive_bayes import GaussianNB\n",
    "from sklearn import linear_model\n",
    "from sklearn import svm\n",
    "from sklearn.neighbors import KNeighborsClassifier as KNN\n",
    "from sklearn.metrics import mean_squared_error, r2_score,mean_absolute_error,make_scorer\n",
    "from sklearn.preprocessing import MinMaxScaler,StandardScaler\n",
    "from sklearn import metrics\n",
    "from math import log\n",
    "from sklearn.ensemble import RandomForestClassifier\n",
    "from sklearn.neural_network import MLPClassifier\n",
    "import matplotlib.patches as mpatches\n",
    "%pylab inline\n",
    "\n",
    "def print_full(x):\n",
    "    pd.set_option('display.max_rows', len(x))\n",
    "    print(x)\n",
    "    pd.reset_option('display.max_rows')\n",
    "    \n",
    "def plot_prob_timeline(data,label):\n",
    "   \n",
    "    xtick = range(0, 91, 10)\n",
    "    fig = plt.figure()\n",
    "    a = plt.plot(data[:,0])\n",
    "    d = plt.plot(data[:,1])\n",
    "    h = plt.plot(data[:,2])\n",
    "    fig.suptitle(label, fontsize=20)\n",
    "    dim = 300\n",
    "    plt.ylim([0,1])\n",
    "\n",
    "    plt.xlabel('Time', fontsize=18)\n",
    "    plt.ylabel('Probability', fontsize=16)\n",
    "    blue_patch = mpatches.Patch(color='blue', label='Away')\n",
    "    orange_patch = mpatches.Patch(color='orange', label='Draw')\n",
    "    green_patch = mpatches.Patch(color='green', label='Home')\n",
    "\n",
    "    plt.legend(handles=[blue_patch,orange_patch,green_patch])\n",
    "    plt.xticks(xtick)\n",
    "    plt.show()\n",
    "\n",
    "def eval_probs(y_prob,y_test, labels=[-1,0,1],show_plot=False):\n",
    "    \"\"\"\n",
    "    y_prob : predict_proba output of a model\n",
    "    labels : all unique labels in the classification\n",
    "    \"\"\"\n",
    "    vals = []\n",
    "    titles = {}\n",
    "    titles[-1] = \"Away Win\"\n",
    "    titles[0] = \"Draw\"\n",
    "    titles[1] = \"Home Win\"\n",
    "\n",
    "    y_prob = pd.DataFrame(y_prob, columns=[-1, 0, 1])\n",
    "    y_prob = y_prob.round(1)\n",
    "    y_prob['label'] = y_test.reset_index(drop=True)\n",
    "    slopes= []\n",
    "    total_error = 0\n",
    "    for ind, label in enumerate(labels):\n",
    "        vals = sorted(y_prob[label].unique())\n",
    "        \n",
    "        y_col = []\n",
    "        \n",
    "        \n",
    "        for i in vals:\n",
    "            tot_len = y_prob[(y_prob[label] == i)].shape[0]\n",
    "            matching_len = y_prob[(y_prob[label] == i) & (y_prob['label'] == label)].shape[0]\n",
    "            y_col.append(matching_len*1.0/tot_len)\n",
    "        \n",
    "        index = 0\n",
    "        y_true = 0\n",
    "        for i in range(10):\n",
    "            if index == len(y_col):\n",
    "                y = 0\n",
    "            else:\n",
    "                y = y_col[index]\n",
    "                index+=1\n",
    "            total_error+= (y_true - y)**2\n",
    "            y_true+=0.1\n",
    "\n",
    "        if show_plot:\n",
    "            plt.figure(figsize=(7,21))\n",
    "            plt.subplot(311+ind)\n",
    "            plt.bar(vals, y_col, width=0.05)\n",
    "            plt.title(titles[label], fontsize=16)\n",
    "            plt.xticks(np.arange(0.0, 1.1, 0.1), fontsize=8)\n",
    "            plt.yticks(np.arange(0.0, 1.1, 0.1),fontsize=8)\n",
    "            plt.show()\n",
    "    return total_error ** 0.5\n",
    "        \n",
    "def save_model(model, model_name):\n",
    "    saved_models_root = \"./saved_models/\" \n",
    "    filename = saved_models_root + model_name + datetime.now().strftime('%m%d_%H%M%S') + \".pkl\"\n",
    "                                                 \n",
    "    with open(filename, 'wb') as outfile:\n",
    "        pkl.dump(model, outfile)"
   ]
  },
  {
   "cell_type": "code",
   "execution_count": 2,
   "metadata": {
    "collapsed": true
   },
   "outputs": [],
   "source": [
    "# with open(\"./data/train_data.pkl\") as infile:\n",
    "#     train_data = pkl.load(infile)\n",
    "\n",
    "with open(\"./data/train/train_data.pkl\") as infile:\n",
    "    train_data = pkl.load(infile)"
   ]
  },
  {
   "cell_type": "code",
   "execution_count": 3,
   "metadata": {},
   "outputs": [
    {
     "data": {
      "text/plain": [
       "(152166, 106)"
      ]
     },
     "execution_count": 3,
     "metadata": {},
     "output_type": "execute_result"
    }
   ],
   "source": [
    "train_data.shape"
   ]
  },
  {
   "cell_type": "code",
   "execution_count": 4,
   "metadata": {
    "collapsed": true
   },
   "outputs": [],
   "source": [
    "# train_data.columns.values\n",
    "temp_data = train_data.copy(deep = True)"
   ]
  },
  {
   "cell_type": "code",
   "execution_count": 5,
   "metadata": {
    "collapsed": true
   },
   "outputs": [],
   "source": [
    "columns = ['date', 'B365H', 'B365D', 'B365A', 'match_id', 'home_team', 'away_team', \n",
    "           'winner', 'minute', 'H_Goal', 'A_Goal']\n",
    "train_data = train_data[columns]"
   ]
  },
  {
   "cell_type": "code",
   "execution_count": 6,
   "metadata": {},
   "outputs": [
    {
     "data": {
      "text/plain": [
       "(152166, 11)"
      ]
     },
     "execution_count": 6,
     "metadata": {},
     "output_type": "execute_result"
    }
   ],
   "source": [
    "train_data.shape"
   ]
  },
  {
   "cell_type": "code",
   "execution_count": 7,
   "metadata": {
    "collapsed": true
   },
   "outputs": [],
   "source": [
    "# train_data.match_id.value_counts()"
   ]
  },
  {
   "cell_type": "code",
   "execution_count": 8,
   "metadata": {
    "collapsed": true
   },
   "outputs": [],
   "source": [
    "# train_data[(train_data['match_id']==1510566245714) & (train_data['minute']>=45)]"
   ]
  },
  {
   "cell_type": "code",
   "execution_count": 9,
   "metadata": {
    "collapsed": true
   },
   "outputs": [],
   "source": [
    "train_data.drop_duplicates(inplace=True, keep='first')"
   ]
  },
  {
   "cell_type": "code",
   "execution_count": 10,
   "metadata": {
    "collapsed": true
   },
   "outputs": [],
   "source": [
    "# train_data.match_id.value_counts()"
   ]
  },
  {
   "cell_type": "code",
   "execution_count": 11,
   "metadata": {
    "collapsed": true
   },
   "outputs": [],
   "source": [
    "X = train_data.drop(['winner', 'date', 'match_id', 'home_team', 'away_team'], axis=1)\n",
    "Y = train_data['winner']"
   ]
  },
  {
   "cell_type": "code",
   "execution_count": 12,
   "metadata": {
    "collapsed": true
   },
   "outputs": [],
   "source": [
    "X_train, X_test, y_train, y_test = train_test_split(X, Y, test_size=0.1)"
   ]
  },
  {
   "cell_type": "markdown",
   "metadata": {},
   "source": [
    "## Support Vector Classifier"
   ]
  },
  {
   "cell_type": "code",
   "execution_count": 92,
   "metadata": {},
   "outputs": [
    {
     "data": {
      "text/plain": [
       "SVC(C=1.0, cache_size=200, class_weight=None, coef0=0.0,\n",
       "  decision_function_shape='ovr', degree=3, gamma='auto', kernel='rbf',\n",
       "  max_iter=-1, probability=True, random_state=None, shrinking=True,\n",
       "  tol=0.001, verbose=False)"
      ]
     },
     "execution_count": 92,
     "metadata": {},
     "output_type": "execute_result"
    }
   ],
   "source": [
    "svc = svm.SVC(probability=True)\n",
    "svc.fit(X_train, y_train)\n",
    "\n",
    "y_pred = svc.predict(X_test)\n",
    "\n",
    "print metrics.accuracy_score(y_test, y_pred)\n",
    "\n",
    "y_prob = svc.predict_proba(X_test)"
   ]
  },
  {
   "cell_type": "markdown",
   "metadata": {},
   "source": [
    "## Logistic Regression"
   ]
  },
  {
   "cell_type": "code",
   "execution_count": 107,
   "metadata": {},
   "outputs": [
    {
     "name": "stdout",
     "output_type": "stream",
     "text": [
      "0.656073399375\n"
     ]
    }
   ],
   "source": [
    "lr = LogisticRegression(n_jobs=-1,multi_class='multinomial',solver='lbfgs')\n",
    "lr.fit(X_train,y_train)\n",
    "\n",
    "y_pred = lr.predict(X_test)\n",
    "\n",
    "print metrics.accuracy_score(y_test, y_pred)\n",
    "\n",
    "y_prob = lr.predict_proba(X_test)\n",
    "\n",
    "# eval_probs(y_prob, y_test, [-1,0,1])"
   ]
  },
  {
   "cell_type": "code",
   "execution_count": 108,
   "metadata": {
    "scrolled": false
   },
   "outputs": [
    {
     "data": {
      "image/png": "[encoded data removed]",
      "text/plain": [
       "<matplotlib.figure.Figure at 0x2cb7cef0>"
      ]
     },
     "metadata": {},
     "output_type": "display_data"
    },
    {
     "data": {
      "image/png": "[encoded data removed]",
      "text/plain": [
       "<matplotlib.figure.Figure at 0x35c553c8>"
      ]
     },
     "metadata": {},
     "output_type": "display_data"
    },
    {
     "data": {
      "image/png": "[encoded data removed]",
      "text/plain": [
       "<matplotlib.figure.Figure at 0x51fe59e8>"
      ]
     },
     "metadata": {},
     "output_type": "display_data"
    },
    {
     "data": {
      "text/plain": [
       "0.17883255538001322"
      ]
     },
     "execution_count": 108,
     "metadata": {},
     "output_type": "execute_result"
    }
   ],
   "source": [
    "eval_probs(y_prob, y_test, [-1,0,1],show_plot=True)"
   ]
  },
  {
   "cell_type": "markdown",
   "metadata": {},
   "source": [
    "## Naive Bayes"
   ]
  },
  {
   "cell_type": "code",
   "execution_count": 109,
   "metadata": {},
   "outputs": [
    {
     "name": "stdout",
     "output_type": "stream",
     "text": [
      "0.572701283159\n"
     ]
    },
    {
     "data": {
      "text/plain": [
       "0.2435065591498399"
      ]
     },
     "execution_count": 109,
     "metadata": {},
     "output_type": "execute_result"
    }
   ],
   "source": [
    "nb = GaussianNB()\n",
    "nb.fit(X_train,y_train)\n",
    "\n",
    "y_pred = nb.predict(X_test)\n",
    "\n",
    "print metrics.accuracy_score(y_test, y_pred)\n",
    "\n",
    "y_prob = nb.predict_proba(X_test)\n",
    "eval_probs(y_prob,y_test)"
   ]
  },
  {
   "cell_type": "code",
   "execution_count": 110,
   "metadata": {
    "collapsed": true
   },
   "outputs": [],
   "source": [
    "temp_data = temp_data[columns]\n",
    "X = temp_data.drop(['winner'], axis=1)\n",
    "Y = temp_data['winner']\n",
    "X_trainA, X_testA, y_trainA, y_testA = train_test_split(X, Y, test_size=0.1,shuffle= False)\n"
   ]
  },
  {
   "cell_type": "code",
   "execution_count": 111,
   "metadata": {},
   "outputs": [
    {
     "ename": "ValueError",
     "evalue": "Found array with 0 sample(s) (shape=(0, 6)) while a minimum of 1 is required.",
     "output_type": "error",
     "traceback": [
      "\u001b[1;31m---------------------------------------------------------------------------\u001b[0m",
      "\u001b[1;31mValueError\u001b[0m                                Traceback (most recent call last)",
      "\u001b[1;32m<ipython-input-111-5a9cdf09d52a>\u001b[0m in \u001b[0;36m<module>\u001b[1;34m()\u001b[0m\n\u001b[0;32m      2\u001b[0m \u001b[0mmatch_data\u001b[0m \u001b[1;33m=\u001b[0m \u001b[0mhead\u001b[0m\u001b[1;33m.\u001b[0m\u001b[0mloc\u001b[0m\u001b[1;33m[\u001b[0m\u001b[0mhead\u001b[0m\u001b[1;33m[\u001b[0m\u001b[1;34m'match_id'\u001b[0m\u001b[1;33m]\u001b[0m \u001b[1;33m==\u001b[0m \u001b[1;36m1510605206930\u001b[0m\u001b[1;33m]\u001b[0m\u001b[1;33m\u001b[0m\u001b[0m\n\u001b[0;32m      3\u001b[0m \u001b[0mmatch_data\u001b[0m\u001b[1;33m=\u001b[0m\u001b[0mmatch_data\u001b[0m\u001b[1;33m.\u001b[0m\u001b[0mdrop\u001b[0m\u001b[1;33m(\u001b[0m\u001b[1;33m[\u001b[0m  \u001b[1;34m'date'\u001b[0m\u001b[1;33m,\u001b[0m \u001b[1;34m'match_id'\u001b[0m\u001b[1;33m,\u001b[0m \u001b[1;34m'home_team'\u001b[0m\u001b[1;33m,\u001b[0m \u001b[1;34m'away_team'\u001b[0m\u001b[1;33m]\u001b[0m\u001b[1;33m,\u001b[0m \u001b[0maxis\u001b[0m\u001b[1;33m=\u001b[0m\u001b[1;36m1\u001b[0m\u001b[1;33m)\u001b[0m\u001b[1;33m\u001b[0m\u001b[0m\n\u001b[1;32m----> 4\u001b[1;33m \u001b[0my_prob\u001b[0m\u001b[1;33m=\u001b[0m \u001b[0mlr\u001b[0m\u001b[1;33m.\u001b[0m\u001b[0mpredict_proba\u001b[0m\u001b[1;33m(\u001b[0m\u001b[0mmatch_data\u001b[0m\u001b[1;33m)\u001b[0m\u001b[1;33m\u001b[0m\u001b[0m\n\u001b[0m",
      "\u001b[1;32mC:\\ProgramData\\Anaconda2\\lib\\site-packages\\sklearn\\linear_model\\logistic.py\u001b[0m in \u001b[0;36mpredict_proba\u001b[1;34m(self, X)\u001b[0m\n\u001b[0;32m   1336\u001b[0m             \u001b[1;32mreturn\u001b[0m \u001b[0msuper\u001b[0m\u001b[1;33m(\u001b[0m\u001b[0mLogisticRegression\u001b[0m\u001b[1;33m,\u001b[0m \u001b[0mself\u001b[0m\u001b[1;33m)\u001b[0m\u001b[1;33m.\u001b[0m\u001b[0m_predict_proba_lr\u001b[0m\u001b[1;33m(\u001b[0m\u001b[0mX\u001b[0m\u001b[1;33m)\u001b[0m\u001b[1;33m\u001b[0m\u001b[0m\n\u001b[0;32m   1337\u001b[0m         \u001b[1;32melse\u001b[0m\u001b[1;33m:\u001b[0m\u001b[1;33m\u001b[0m\u001b[0m\n\u001b[1;32m-> 1338\u001b[1;33m             \u001b[1;32mreturn\u001b[0m \u001b[0msoftmax\u001b[0m\u001b[1;33m(\u001b[0m\u001b[0mself\u001b[0m\u001b[1;33m.\u001b[0m\u001b[0mdecision_function\u001b[0m\u001b[1;33m(\u001b[0m\u001b[0mX\u001b[0m\u001b[1;33m)\u001b[0m\u001b[1;33m,\u001b[0m \u001b[0mcopy\u001b[0m\u001b[1;33m=\u001b[0m\u001b[0mFalse\u001b[0m\u001b[1;33m)\u001b[0m\u001b[1;33m\u001b[0m\u001b[0m\n\u001b[0m\u001b[0;32m   1339\u001b[0m \u001b[1;33m\u001b[0m\u001b[0m\n\u001b[0;32m   1340\u001b[0m     \u001b[1;32mdef\u001b[0m \u001b[0mpredict_log_proba\u001b[0m\u001b[1;33m(\u001b[0m\u001b[0mself\u001b[0m\u001b[1;33m,\u001b[0m \u001b[0mX\u001b[0m\u001b[1;33m)\u001b[0m\u001b[1;33m:\u001b[0m\u001b[1;33m\u001b[0m\u001b[0m\n",
      "\u001b[1;32mC:\\ProgramData\\Anaconda2\\lib\\site-packages\\sklearn\\linear_model\\base.py\u001b[0m in \u001b[0;36mdecision_function\u001b[1;34m(self, X)\u001b[0m\n\u001b[0;32m    298\u001b[0m                                  \"yet\" % {'name': type(self).__name__})\n\u001b[0;32m    299\u001b[0m \u001b[1;33m\u001b[0m\u001b[0m\n\u001b[1;32m--> 300\u001b[1;33m         \u001b[0mX\u001b[0m \u001b[1;33m=\u001b[0m \u001b[0mcheck_array\u001b[0m\u001b[1;33m(\u001b[0m\u001b[0mX\u001b[0m\u001b[1;33m,\u001b[0m \u001b[0maccept_sparse\u001b[0m\u001b[1;33m=\u001b[0m\u001b[1;34m'csr'\u001b[0m\u001b[1;33m)\u001b[0m\u001b[1;33m\u001b[0m\u001b[0m\n\u001b[0m\u001b[0;32m    301\u001b[0m \u001b[1;33m\u001b[0m\u001b[0m\n\u001b[0;32m    302\u001b[0m         \u001b[0mn_features\u001b[0m \u001b[1;33m=\u001b[0m \u001b[0mself\u001b[0m\u001b[1;33m.\u001b[0m\u001b[0mcoef_\u001b[0m\u001b[1;33m.\u001b[0m\u001b[0mshape\u001b[0m\u001b[1;33m[\u001b[0m\u001b[1;36m1\u001b[0m\u001b[1;33m]\u001b[0m\u001b[1;33m\u001b[0m\u001b[0m\n",
      "\u001b[1;32mC:\\ProgramData\\Anaconda2\\lib\\site-packages\\sklearn\\utils\\validation.py\u001b[0m in \u001b[0;36mcheck_array\u001b[1;34m(array, accept_sparse, dtype, order, copy, force_all_finite, ensure_2d, allow_nd, ensure_min_samples, ensure_min_features, warn_on_dtype, estimator)\u001b[0m\n\u001b[0;32m    460\u001b[0m                              \u001b[1;34m\" minimum of %d is required%s.\"\u001b[0m\u001b[1;33m\u001b[0m\u001b[0m\n\u001b[0;32m    461\u001b[0m                              % (n_samples, shape_repr, ensure_min_samples,\n\u001b[1;32m--> 462\u001b[1;33m                                 context))\n\u001b[0m\u001b[0;32m    463\u001b[0m \u001b[1;33m\u001b[0m\u001b[0m\n\u001b[0;32m    464\u001b[0m     \u001b[1;32mif\u001b[0m \u001b[0mensure_min_features\u001b[0m \u001b[1;33m>\u001b[0m \u001b[1;36m0\u001b[0m \u001b[1;32mand\u001b[0m \u001b[0marray\u001b[0m\u001b[1;33m.\u001b[0m\u001b[0mndim\u001b[0m \u001b[1;33m==\u001b[0m \u001b[1;36m2\u001b[0m\u001b[1;33m:\u001b[0m\u001b[1;33m\u001b[0m\u001b[0m\n",
      "\u001b[1;31mValueError\u001b[0m: Found array with 0 sample(s) (shape=(0, 6)) while a minimum of 1 is required."
     ]
    }
   ],
   "source": [
    "head = X_testA #1510605206930   1510602646114\n",
    "match_data = head.loc[head['match_id'] == 1510605206930]\n",
    "match_data=match_data.drop([  'date', 'match_id', 'home_team', 'away_team'], axis=1)\n",
    "y_prob= lr.predict_proba(match_data)\n"
   ]
  },
  {
   "cell_type": "code",
   "execution_count": null,
   "metadata": {
    "collapsed": true
   },
   "outputs": [],
   "source": [
    "plot_prob_timeline(y_prob[:,0],'Away Win Probability Timeline')\n",
    "plot_prob_timeline(y_prob[:,1],'Draw Probability Timeline')\n",
    "plot_prob_timeline(y_prob[:,2],'Home Win Probability Timeline')"
   ]
  },
  {
   "cell_type": "code",
   "execution_count": null,
   "metadata": {
    "collapsed": true
   },
   "outputs": [],
   "source": [
    "# y_zzzzprob[:,0],'Away Win Probability Timeline'\n"
   ]
  },
  {
   "cell_type": "markdown",
   "metadata": {
    "collapsed": true
   },
   "source": [
    "## K nearest neighbours"
   ]
  },
  {
   "cell_type": "code",
   "execution_count": 129,
   "metadata": {
    "scrolled": true
   },
   "outputs": [
    {
     "data": {
      "image/png": "[encoded data removed]",
      "text/plain": [
       "<matplotlib.figure.Figure at 0x45e297f0>"
      ]
     },
     "metadata": {},
     "output_type": "display_data"
    },
    {
     "data": {
      "image/png": "[encoded data removed]",
      "text/plain": [
       "<matplotlib.figure.Figure at 0x4054c550>"
      ]
     },
     "metadata": {},
     "output_type": "display_data"
    },
    {
     "data": {
      "image/png": "[encoded data removed]",
      "text/plain": [
       "<matplotlib.figure.Figure at 0x2acdff98>"
      ]
     },
     "metadata": {},
     "output_type": "display_data"
    },
    {
     "name": "stdout",
     "output_type": "stream",
     "text": [
      "0.179555646907\n"
     ]
    }
   ],
   "source": [
    "\n",
    "for weight in ['uniform']: #, 'distance']:\n",
    "\n",
    "    neigh = KNN(n_neighbors=10, algorithm='kd_tree', weights=weight, n_jobs=-1)\n",
    "    neigh.fit(X_train, y_train) \n",
    "    \n",
    "    y_pred = neigh.predict(X_test)\n",
    "\n",
    "#     print metrics.accuracy_score(y_test, y_pred)\n",
    "\n",
    "    y_prob = neigh.predict_proba(X_test)\n",
    "    print eval_probs(y_prob, y_test, [-1,0,1],show_plot=True)    \n",
    "    \n",
    "    \n",
    "#     save_model(neigh, \"KNN\"+weight)"
   ]
  },
  {
   "cell_type": "markdown",
   "metadata": {
    "collapsed": true
   },
   "source": [
    "## Random Forest Classifier"
   ]
  },
  {
   "cell_type": "code",
   "execution_count": 130,
   "metadata": {},
   "outputs": [
    {
     "name": "stdout",
     "output_type": "stream",
     "text": [
      "0.820224719101\n"
     ]
    }
   ],
   "source": [
    "rf = RandomForestClassifier(n_estimators=100,max_depth=15,n_jobs=-1)\n",
    "rf.fit(X_train,y_train)\n",
    "y_pred = rf.predict(X_test)\n",
    "\n",
    "print metrics.accuracy_score(y_test, y_pred)\n",
    "\n",
    "y_prob = rf.predict_proba(X_test)"
   ]
  },
  {
   "cell_type": "code",
   "execution_count": null,
   "metadata": {
    "collapsed": true
   },
   "outputs": [],
   "source": [
    "pkl.dump(y_prob,open('y_prob_2.pkl','w'))\n",
    "# pkl.dump(y_test,open('y_test.pkl','w'))"
   ]
  },
  {
   "cell_type": "code",
   "execution_count": 115,
   "metadata": {
    "scrolled": true
   },
   "outputs": [
    {
     "data": {
      "image/png": "[encoded data removed]",
      "text/plain": [
       "<matplotlib.figure.Figure at 0x358d7eb8>"
      ]
     },
     "metadata": {},
     "output_type": "display_data"
    },
    {
     "data": {
      "image/png": "[encoded data removed]",
      "text/plain": [
       "<matplotlib.figure.Figure at 0x1e948908>"
      ]
     },
     "metadata": {},
     "output_type": "display_data"
    },
    {
     "data": {
      "image/png": "[encoded data removed]",
      "text/plain": [
       "<matplotlib.figure.Figure at 0x411816a0>"
      ]
     },
     "metadata": {},
     "output_type": "display_data"
    },
    {
     "data": {
      "text/plain": [
       "0.13349989340635232"
      ]
     },
     "execution_count": 115,
     "metadata": {},
     "output_type": "execute_result"
    }
   ],
   "source": [
    "eval_probs(y_prob, y_test, [-1,0,1],show_plot=True)"
   ]
  },
  {
   "cell_type": "code",
   "execution_count": 13,
   "metadata": {
    "scrolled": true
   },
   "outputs": [
    {
     "name": "stdout",
     "output_type": "stream",
     "text": [
      "0\n",
      "1\n",
      "0.663187288079\n"
     ]
    },
    {
     "data": {
      "image/png": "[encoded data removed]",
      "text/plain": [
       "<matplotlib.figure.Figure at 0x1931e080>"
      ]
     },
     "metadata": {},
     "output_type": "display_data"
    },
    {
     "data": {
      "image/png": "[encoded data removed]",
      "text/plain": [
       "<matplotlib.figure.Figure at 0x1627feb8>"
      ]
     },
     "metadata": {},
     "output_type": "display_data"
    },
    {
     "data": {
      "image/png": "[encoded data removed]",
      "text/plain": [
       "<matplotlib.figure.Figure at 0x185f5d68>"
      ]
     },
     "metadata": {},
     "output_type": "display_data"
    },
    {
     "data": {
      "text/plain": [
       "0.9066701357609398"
      ]
     },
     "execution_count": 13,
     "metadata": {},
     "output_type": "execute_result"
    }
   ],
   "source": [
    "mlp = MLPClassifier(hidden_layer_sizes=(100, 50), activation='relu', solver='adam', learning_rate='constant',\n",
    "                   learning_rate_init=0.0001, max_iter=100, early_stopping=False, tol=0.00001, verbose=False,\n",
    "                   warm_start=True)\n",
    "\n",
    "for i in range(2):\n",
    "    print i\n",
    "    mlp.fit(X_train,y_train)\n",
    "\n",
    "y_pred = mlp.predict(X_test)\n",
    "\n",
    "print metrics.accuracy_score(y_test, y_pred)\n",
    "\n",
    "y_prob = mlp.predict_proba(X_test)\n",
    "\n",
    "eval_probs(y_prob, y_test, [-1,0,1],show_plot=True)"
   ]
  },
  {
   "cell_type": "code",
   "execution_count": 16,
   "metadata": {},
   "outputs": [
    {
     "name": "stdout",
     "output_type": "stream",
     "text": [
      "D\n"
     ]
    }
   ],
   "source": [
    "X_test\n",
    "X_test_copy= X_test.copy(deep=True)\n",
    "X_test_copy['H_Prob'] = np.reciprocal(X_test_copy['B365H']);\n",
    "X_test_copy['D_Prob'] = np.reciprocal(X_test_copy['B365D']);\n",
    "X_test_copy['A_Prob'] = np.reciprocal(X_test_copy['B365A']);\n",
    "X_test_copy['Prob_Sum'] = 0;\n",
    "\n",
    "def calculate_total_proba(row):\n",
    "    return (row['H_Prob'] + row['D_Prob'] + row[\"A_Prob\"])*100\n",
    "\n",
    "X_test_copy['Prob_Sum'] = X_test_copy.apply(calculate_total_proba, axis=1)\n",
    "X_test_copy.reset_index(inplace = True)\n",
    "print \"D\""
   ]
  },
  {
   "cell_type": "code",
   "execution_count": 17,
   "metadata": {
    "collapsed": true
   },
   "outputs": [],
   "source": [
    "y_prob_df = pd.DataFrame(y_prob,columns=['A_Pred','D_Pred','H_Pred'])\n",
    "y_prob_df.reset_index(inplace = True)\n",
    "X_test_copy['H_Pred']=y_prob_df['H_Pred']\n",
    "X_test_copy['D_Pred']=y_prob_df['D_Pred']\n",
    "X_test_copy['A_Pred']=y_prob_df['A_Pred']\n",
    "\n",
    "# merged = pd.concat([X_test_copy,y_prob_df],axis=0)\n",
    "# testing = zip(X_test_copy,y_prob)"
   ]
  },
  {
   "cell_type": "code",
   "execution_count": 18,
   "metadata": {},
   "outputs": [
    {
     "data": {
      "text/html": [
       "<div>\n",
       "<style>\n",
       "    .dataframe thead tr:only-child th {\n",
       "        text-align: right;\n",
       "    }\n",
       "\n",
       "    .dataframe thead th {\n",
       "        text-align: left;\n",
       "    }\n",
       "\n",
       "    .dataframe tbody tr th {\n",
       "        vertical-align: top;\n",
       "    }\n",
       "</style>\n",
       "<table border=\"1\" class=\"dataframe\">\n",
       "  <thead>\n",
       "    <tr style=\"text-align: right;\">\n",
       "      <th></th>\n",
       "      <th>index</th>\n",
       "      <th>B365H</th>\n",
       "      <th>B365D</th>\n",
       "      <th>B365A</th>\n",
       "      <th>minute</th>\n",
       "      <th>H_Goal</th>\n",
       "      <th>A_Goal</th>\n",
       "      <th>H_Prob</th>\n",
       "      <th>D_Prob</th>\n",
       "      <th>A_Prob</th>\n",
       "      <th>Prob_Sum</th>\n",
       "      <th>H_Pred</th>\n",
       "      <th>D_Pred</th>\n",
       "      <th>A_Pred</th>\n",
       "    </tr>\n",
       "  </thead>\n",
       "  <tbody>\n",
       "    <tr>\n",
       "      <th>0</th>\n",
       "      <td>12469</td>\n",
       "      <td>2.20</td>\n",
       "      <td>3.30</td>\n",
       "      <td>3.40</td>\n",
       "      <td>29</td>\n",
       "      <td>0</td>\n",
       "      <td>0</td>\n",
       "      <td>0.454545</td>\n",
       "      <td>0.303030</td>\n",
       "      <td>0.294118</td>\n",
       "      <td>105.169340</td>\n",
       "      <td>0.410514</td>\n",
       "      <td>0.364707</td>\n",
       "      <td>0.224779</td>\n",
       "    </tr>\n",
       "    <tr>\n",
       "      <th>1</th>\n",
       "      <td>150991</td>\n",
       "      <td>1.83</td>\n",
       "      <td>3.60</td>\n",
       "      <td>4.33</td>\n",
       "      <td>24</td>\n",
       "      <td>1</td>\n",
       "      <td>0</td>\n",
       "      <td>0.546448</td>\n",
       "      <td>0.277778</td>\n",
       "      <td>0.230947</td>\n",
       "      <td>105.517275</td>\n",
       "      <td>0.667928</td>\n",
       "      <td>0.216932</td>\n",
       "      <td>0.115140</td>\n",
       "    </tr>\n",
       "    <tr>\n",
       "      <th>2</th>\n",
       "      <td>7244</td>\n",
       "      <td>13.00</td>\n",
       "      <td>5.00</td>\n",
       "      <td>1.29</td>\n",
       "      <td>47</td>\n",
       "      <td>0</td>\n",
       "      <td>1</td>\n",
       "      <td>0.076923</td>\n",
       "      <td>0.200000</td>\n",
       "      <td>0.775194</td>\n",
       "      <td>105.211688</td>\n",
       "      <td>0.000016</td>\n",
       "      <td>0.093310</td>\n",
       "      <td>0.906674</td>\n",
       "    </tr>\n",
       "    <tr>\n",
       "      <th>3</th>\n",
       "      <td>73754</td>\n",
       "      <td>6.00</td>\n",
       "      <td>4.20</td>\n",
       "      <td>1.62</td>\n",
       "      <td>17</td>\n",
       "      <td>0</td>\n",
       "      <td>0</td>\n",
       "      <td>0.166667</td>\n",
       "      <td>0.238095</td>\n",
       "      <td>0.617284</td>\n",
       "      <td>102.204586</td>\n",
       "      <td>0.153746</td>\n",
       "      <td>0.334343</td>\n",
       "      <td>0.511911</td>\n",
       "    </tr>\n",
       "    <tr>\n",
       "      <th>4</th>\n",
       "      <td>48765</td>\n",
       "      <td>1.44</td>\n",
       "      <td>4.33</td>\n",
       "      <td>7.50</td>\n",
       "      <td>6</td>\n",
       "      <td>0</td>\n",
       "      <td>0</td>\n",
       "      <td>0.694444</td>\n",
       "      <td>0.230947</td>\n",
       "      <td>0.133333</td>\n",
       "      <td>105.872466</td>\n",
       "      <td>0.658947</td>\n",
       "      <td>0.192811</td>\n",
       "      <td>0.148242</td>\n",
       "    </tr>\n",
       "  </tbody>\n",
       "</table>\n",
       "</div>"
      ],
      "text/plain": [
       "    index  B365H  B365D  B365A  minute  H_Goal  A_Goal    H_Prob    D_Prob  \\\n",
       "0   12469   2.20   3.30   3.40      29       0       0  0.454545  0.303030   \n",
       "1  150991   1.83   3.60   4.33      24       1       0  0.546448  0.277778   \n",
       "2    7244  13.00   5.00   1.29      47       0       1  0.076923  0.200000   \n",
       "3   73754   6.00   4.20   1.62      17       0       0  0.166667  0.238095   \n",
       "4   48765   1.44   4.33   7.50       6       0       0  0.694444  0.230947   \n",
       "\n",
       "     A_Prob    Prob_Sum    H_Pred    D_Pred    A_Pred  \n",
       "0  0.294118  105.169340  0.410514  0.364707  0.224779  \n",
       "1  0.230947  105.517275  0.667928  0.216932  0.115140  \n",
       "2  0.775194  105.211688  0.000016  0.093310  0.906674  \n",
       "3  0.617284  102.204586  0.153746  0.334343  0.511911  \n",
       "4  0.133333  105.872466  0.658947  0.192811  0.148242  "
      ]
     },
     "execution_count": 18,
     "metadata": {},
     "output_type": "execute_result"
    }
   ],
   "source": [
    "X_test_copy.head()"
   ]
  },
  {
   "cell_type": "code",
   "execution_count": 14,
   "metadata": {
    "collapsed": true
   },
   "outputs": [],
   "source": [
    "temp_data = train_data.loc[train_data['match_id'] == 1510605206930]\n",
    "X = temp_data.drop(['winner', 'date', 'match_id', 'home_team', 'away_team'], axis=1)\n",
    "Y = temp_data['winner']\n",
    "# X_train, X_test, y_train, y_test = train_test_split(X, Y, test_size=0.1)\n",
    "\n",
    "y_prob = mlp.predict_proba(X)\n",
    "# A = X_train.loc[X_train['match_id'] == 1510602646114]\n",
    "# A=A.drop([  'date', 'match_id', 'home_team', 'away_team'], axis=1)\n",
    "\n",
    "\n"
   ]
  },
  {
   "cell_type": "code",
   "execution_count": 15,
   "metadata": {
    "collapsed": true
   },
   "outputs": [],
   "source": [
    "temp_data.reset_index(inplace=True)\n",
    "y_prob_df = pd.DataFrame(y_prob,columns=['A_Pred','D_Pred','H_Pred'])\n",
    "y_prob_df['Away'] = temp_data.A_Goal\n",
    "y_prob_df['Home'] = temp_data.H_Goal\n",
    "\n",
    "\n",
    "# print_full(y_prob_df)"
   ]
  },
  {
   "cell_type": "code",
   "execution_count": 33,
   "metadata": {},
   "outputs": [
    {
     "data": {
      "image/png": "[encoded data removed]",
      "text/plain": [
       "<matplotlib.figure.Figure at 0x18aefa90>"
      ]
     },
     "metadata": {},
     "output_type": "display_data"
    }
   ],
   "source": [
    "plot_prob_timeline(y_prob,'Probability Timeline')\n"
   ]
  },
  {
   "cell_type": "code",
   "execution_count": 35,
   "metadata": {},
   "outputs": [
    {
     "name": "stdout",
     "output_type": "stream",
     "text": [
      "D\n"
     ]
    }
   ],
   "source": [
    "X_test_copy= temp_data.copy(deep=True)\n",
    "X_test_copy['H_Prob'] = np.reciprocal(X_test_copy['B365H']);\n",
    "X_test_copy['D_Prob'] = np.reciprocal(X_test_copy['B365D']);\n",
    "X_test_copy['A_Prob'] = np.reciprocal(X_test_copy['B365A']);\n",
    "X_test_copy['Prob_Sum'] = 0;\n",
    "\n",
    "def calculate_total_proba(row):\n",
    "    return (row['H_Prob'] + row['D_Prob'] + row[\"A_Prob\"])*100\n",
    "\n",
    "X_test_copy['Prob_Sum'] = X_test_copy.apply(calculate_total_proba, axis=1)\n",
    "# X_test_copy.reset_index(inplace = True)\n",
    "print \"D\""
   ]
  },
  {
   "cell_type": "code",
   "execution_count": 66,
   "metadata": {
    "collapsed": true
   },
   "outputs": [],
   "source": [
    "X_test_copy= X_test.copy(deep=True)\n",
    "X_test_copy['H_Prob'] = np.reciprocal(X_test_copy['B365H']);\n",
    "X_test_copy['D_Prob'] = np.reciprocal(X_test_copy['B365D']);\n",
    "X_test_copy['A_Prob'] = np.reciprocal(X_test_copy['B365A']);\n",
    "X_test_copy['Prob_Sum'] = 0;\n",
    "\n",
    "def calculate_total_proba(row):\n",
    "    return (row['H_Prob'] + row['D_Prob'] + row[\"A_Prob\"])*100\n",
    "\n",
    "X_test_copy['Prob_Sum'] = X_test_copy.apply(calculate_total_proba, axis=1)\n",
    "X_test_copy.reset_index(inplace = True)\n",
    "# X_test_copy"
   ]
  },
  {
   "cell_type": "code",
   "execution_count": 71,
   "metadata": {},
   "outputs": [
    {
     "data": {
      "text/plain": [
       "12469     0\n",
       "150991    1\n",
       "7244     -1\n",
       "73754     1\n",
       "48765     0\n",
       "109540   -1\n",
       "79174    -1\n",
       "135858    0\n",
       "36798    -1\n",
       "111300   -1\n",
       "18748    -1\n",
       "56360     1\n",
       "42142     1\n",
       "14821     1\n",
       "52413     1\n",
       "53751     0\n",
       "86265     0\n",
       "111690    1\n",
       "33020    -1\n",
       "94831     0\n",
       "17248     0\n",
       "89281     1\n",
       "54616    -1\n",
       "137863   -1\n",
       "1735      1\n",
       "139603    0\n",
       "19522     0\n",
       "51305    -1\n",
       "116703   -1\n",
       "6400      0\n",
       "         ..\n",
       "72891    -1\n",
       "19066     1\n",
       "138848    1\n",
       "103596    0\n",
       "22611     1\n",
       "97581     1\n",
       "95337    -1\n",
       "139704    0\n",
       "110778    0\n",
       "21127     1\n",
       "102173    0\n",
       "143632    1\n",
       "59390     1\n",
       "65494    -1\n",
       "13115     0\n",
       "67014     1\n",
       "12190     0\n",
       "91097     1\n",
       "6734      0\n",
       "68829    -1\n",
       "135733    0\n",
       "133293    1\n",
       "27402     0\n",
       "80270    -1\n",
       "98101    -1\n",
       "105954    1\n",
       "115566    0\n",
       "30568     1\n",
       "45479     0\n",
       "64325    -1\n",
       "Name: winner, Length: 15041, dtype: int64"
      ]
     },
     "execution_count": 71,
     "metadata": {},
     "output_type": "execute_result"
    }
   ],
   "source": [
    "y_prior = X_test_copy[['A_Prob','D_Prob','H_Prob']]\n",
    "# \n",
    "# X_test_copy\n",
    "y_test\n"
   ]
  },
  {
   "cell_type": "code",
   "execution_count": 72,
   "metadata": {},
   "outputs": [
    {
     "data": {
      "image/png": "[encoded data removed]",
      "text/plain": [
       "<matplotlib.figure.Figure at 0xc8056a0>"
      ]
     },
     "metadata": {},
     "output_type": "display_data"
    },
    {
     "data": {
      "image/png": "[encoded data removed]",
      "text/plain": [
       "<matplotlib.figure.Figure at 0x18e27710>"
      ]
     },
     "metadata": {},
     "output_type": "display_data"
    },
    {
     "data": {
      "image/png": "[encoded data removed]",
      "text/plain": [
       "<matplotlib.figure.Figure at 0x166c9080>"
      ]
     },
     "metadata": {},
     "output_type": "display_data"
    },
    {
     "data": {
      "text/plain": [
       "2.137254448119307"
      ]
     },
     "execution_count": 72,
     "metadata": {},
     "output_type": "execute_result"
    }
   ],
   "source": [
    "eval_probs(y_prior.as_matrix(), y_test, [-1,0,1],show_plot=True)"
   ]
  }
 ],
 "metadata": {
  "kernelspec": {
   "display_name": "Python 2",
   "language": "python",
   "name": "python2"
  },
  "language_info": {
   "codemirror_mode": {
    "name": "ipython",
    "version": 2
   },
   "file_extension": ".py",
   "mimetype": "text/x-python",
   "name": "python",
   "nbconvert_exporter": "python",
   "pygments_lexer": "ipython2",
   "version": "2.7.14"
  }
 },
 "nbformat": 4,
 "nbformat_minor": 2
}
